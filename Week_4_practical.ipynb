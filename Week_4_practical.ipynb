{
 "cells": [
  {
   "cell_type": "markdown",
   "id": "f1198467",
   "metadata": {},
   "source": [
    "# Question 1"
   ]
  },
  {
   "cell_type": "code",
   "execution_count": 41,
   "id": "2b81adc6",
   "metadata": {},
   "outputs": [],
   "source": [
    "library(assertthat)"
   ]
  },
  {
   "cell_type": "code",
   "execution_count": 1,
   "id": "786c9def",
   "metadata": {},
   "outputs": [
    {
     "data": {
      "text/html": [
       "1"
      ],
      "text/latex": [
       "1"
      ],
      "text/markdown": [
       "1"
      ],
      "text/plain": [
       "[1] 1"
      ]
     },
     "metadata": {},
     "output_type": "display_data"
    }
   ],
   "source": [
    "##Write a function that manually computes the standard deviation.\n",
    "##Call your function sd_x\n",
    "\n",
    "x <- c(1,2,3)\n",
    "sd_x <- function(x) {\n",
    "    sqrt(sum((x - mean(x))^2/(length(x)- 1)))\n",
    "    }\n",
    "sd_x(x)"
   ]
  },
  {
   "cell_type": "code",
   "execution_count": 42,
   "id": "37a0a4fe",
   "metadata": {
    "scrolled": true
   },
   "outputs": [
    {
     "data": {
      "text/html": [
       "1.58113883008419"
      ],
      "text/latex": [
       "1.58113883008419"
      ],
      "text/markdown": [
       "1.58113883008419"
      ],
      "text/plain": [
       "[1] 1.581139"
      ]
     },
     "metadata": {},
     "output_type": "display_data"
    },
    {
     "data": {
      "text/html": [
       "3.02765035409749"
      ],
      "text/latex": [
       "3.02765035409749"
      ],
      "text/markdown": [
       "3.02765035409749"
      ],
      "text/plain": [
       "[1] 3.02765"
      ]
     },
     "metadata": {},
     "output_type": "display_data"
    },
    {
     "data": {
      "text/html": [
       "29.011491975882"
      ],
      "text/latex": [
       "29.011491975882"
      ],
      "text/markdown": [
       "29.011491975882"
      ],
      "text/plain": [
       "[1] 29.01149"
      ]
     },
     "metadata": {},
     "output_type": "display_data"
    },
    {
     "data": {
      "text/html": [
       "TRUE"
      ],
      "text/latex": [
       "TRUE"
      ],
      "text/markdown": [
       "TRUE"
      ],
      "text/plain": [
       "[1] TRUE"
      ]
     },
     "metadata": {},
     "output_type": "display_data"
    }
   ],
   "source": [
    "##Use assertthat to make sure that sd_x and sd return the same values for 3 test vectors of your choice.\n",
    "y <- c(1:5)\n",
    "sd_x(y)\n",
    "z <- c(1:10)\n",
    "sd_x(z)\n",
    "a <- c(1:100)\n",
    "sd_x(a)\n",
    "\n",
    "assert_that(sd(x) == sd_x(x), sd(y) == sd_x(y), sd(z) == sd_x(z), sd(a) == sd_x(a))\n"
   ]
  },
  {
   "cell_type": "markdown",
   "id": "d2c899e6",
   "metadata": {},
   "source": [
    "## Question 2"
   ]
  },
  {
   "cell_type": "code",
   "execution_count": 6,
   "id": "026f6232",
   "metadata": {},
   "outputs": [
    {
     "name": "stderr",
     "output_type": "stream",
     "text": [
      "Warning message:\n",
      "\"package 'tibble' was built under R version 3.6.3\"\n"
     ]
    }
   ],
   "source": [
    "library(tibble)"
   ]
  },
  {
   "cell_type": "code",
   "execution_count": 33,
   "id": "1457bfcb",
   "metadata": {},
   "outputs": [],
   "source": [
    "##You will be creating a tibble called coral_health_tbl that contains 2 columns:\n",
    "coral_pop = c(\"Montipora capitata\",\n",
    "              \"Porites compressa\",\n",
    "              \"Porites lobata\")\n",
    "coral <- sample(coral_pop, size = 100, replace = TRUE)\n",
    "status = c(\"TRUE\", \"FALSE\")\n",
    "health_status <- sample(status, size = 100, replace = TRUE, prob = c(0.8, 0.2))\n",
    "\n",
    "coral_health_tib <- tibble(data.frame(coral,health_status))\n",
    "\n",
    "coral_health_tib$coral_cover = NA\n"
   ]
  },
  {
   "cell_type": "markdown",
   "id": "9ae8287d",
   "metadata": {},
   "source": [
    "## Question 3"
   ]
  },
  {
   "cell_type": "code",
   "execution_count": 34,
   "id": "8f8b3158",
   "metadata": {
    "scrolled": false
   },
   "outputs": [],
   "source": [
    "coral_health_tib$coral_cover[coral_health_tib$health_status==T]=rnorm(n=length(\n",
    "  coral_health_tib$coral[coral_health_tib$health_status==T]),mean=9,sd=2)\n",
    "\n",
    "coral_health_tib$coral_cover[coral_health_tib$health_status==F]=rnorm(n=length(\n",
    "  coral_health_tib$coral[coral_health_tib$health_status==F]),mean=1,sd=3)\n"
   ]
  },
  {
   "cell_type": "code",
   "execution_count": 35,
   "id": "34b7bddb",
   "metadata": {},
   "outputs": [],
   "source": [
    "#Question 4\n",
    "coral_health_tib$binary_health_status = as.integer(as.factor(coral_health_tib$health_status))-1"
   ]
  },
  {
   "cell_type": "code",
   "execution_count": 36,
   "id": "0989b39d",
   "metadata": {},
   "outputs": [
    {
     "name": "stdout",
     "output_type": "stream",
     "text": [
      "\u001b[90m# A tibble: 100 x 4\u001b[39m\n",
      "   coral              health_status coral_cover binary_health_status\n",
      "   \u001b[3m\u001b[90m<fct>\u001b[39m\u001b[23m              \u001b[3m\u001b[90m<fct>\u001b[39m\u001b[23m               \u001b[3m\u001b[90m<dbl>\u001b[39m\u001b[23m                \u001b[3m\u001b[90m<dbl>\u001b[39m\u001b[23m\n",
      "\u001b[90m 1\u001b[39m Montipora capitata TRUE                6.69                     1\n",
      "\u001b[90m 2\u001b[39m Porites lobata     TRUE                7.87                     1\n",
      "\u001b[90m 3\u001b[39m Porites compressa  FALSE               5.30                     0\n",
      "\u001b[90m 4\u001b[39m Porites compressa  TRUE                7.90                     1\n",
      "\u001b[90m 5\u001b[39m Porites lobata     TRUE                7.56                     1\n",
      "\u001b[90m 6\u001b[39m Porites compressa  TRUE               10.7                      1\n",
      "\u001b[90m 7\u001b[39m Porites compressa  FALSE               0.360                    0\n",
      "\u001b[90m 8\u001b[39m Porites compressa  TRUE                8.41                     1\n",
      "\u001b[90m 9\u001b[39m Porites compressa  TRUE                8.45                     1\n",
      "\u001b[90m10\u001b[39m Porites lobata     FALSE               2.16                     0\n",
      "\u001b[90m# ... with 90 more rows\u001b[39m\n"
     ]
    }
   ],
   "source": [
    "print(coral_health_tib)"
   ]
  },
  {
   "cell_type": "code",
   "execution_count": 37,
   "id": "fbc6b654",
   "metadata": {},
   "outputs": [
    {
     "data": {
      "image/png": "[encoded data removed]",
      "text/plain": [
       "plot without title"
      ]
     },
     "metadata": {
      "image/png": {
       "height": 420,
       "width": 420
      }
     },
     "output_type": "display_data"
    }
   ],
   "source": [
    "#Question 5\n",
    "ggplot(coral_health_tib,aes(x=coral_cover, fill = health_status))+\n",
    "  scale_fill_manual(values = c(\"white\", \"grey\"))+\n",
    "  geom_histogram(aes(y = ..count../ sum(..count..)), binwidth = 1, colour = \"black\")"
   ]
  },
  {
   "cell_type": "code",
   "execution_count": 38,
   "id": "e0987b23",
   "metadata": {
    "scrolled": true
   },
   "outputs": [
    {
     "data": {
      "image/png": "[encoded data removed]",
      "text/plain": [
       "plot without title"
      ]
     },
     "metadata": {
      "image/png": {
       "height": 420,
       "width": 420
      }
     },
     "output_type": "display_data"
    }
   ],
   "source": [
    "#Question 6\n",
    "ggplot(coral_health_tib, aes(x=coral_cover, fill=coral))+scale_fill_manual(values = c(\"seagreen\", \"dodgerblue2\",\"coral3\"))+\n",
    "  geom_density(aes(y=..count../sum(..count..)),adjust=2, colour = \"black\")+xlim(c(-10,25))"
   ]
  }
 ],
 "metadata": {
  "kernelspec": {
   "display_name": "R",
   "language": "R",
   "name": "ir"
  },
  "language_info": {
   "codemirror_mode": "r",
   "file_extension": ".r",
   "mimetype": "text/x-r-source",
   "name": "R",
   "pygments_lexer": "r",
   "version": "3.6.1"
  }
 },
 "nbformat": 4,
 "nbformat_minor": 5
}
