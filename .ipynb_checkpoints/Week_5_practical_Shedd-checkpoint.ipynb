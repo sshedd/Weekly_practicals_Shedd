{
 "cells": [
  {
   "cell_type": "code",
   "execution_count": 4,
   "id": "9f8df909",
   "metadata": {},
   "outputs": [
    {
     "name": "stderr",
     "output_type": "stream",
     "text": [
      "Warning message:\n",
      "\"package 'magrittr' was built under R version 3.6.3\""
     ]
    }
   ],
   "source": [
    "library(magrittr)"
   ]
  },
  {
   "cell_type": "code",
   "execution_count": 2,
   "id": "defc9a9b",
   "metadata": {},
   "outputs": [
    {
     "name": "stderr",
     "output_type": "stream",
     "text": [
      "Registered S3 methods overwritten by 'ggplot2':\n",
      "  method         from \n",
      "  [.quosures     rlang\n",
      "  c.quosures     rlang\n",
      "  print.quosures rlang\n"
     ]
    }
   ],
   "source": [
    "library(ggplot2)"
   ]
  },
  {
   "cell_type": "markdown",
   "id": "76409d12",
   "metadata": {},
   "source": [
    "# Question 0"
   ]
  },
  {
   "cell_type": "code",
   "execution_count": 5,
   "id": "fcf2ed1e",
   "metadata": {},
   "outputs": [
    {
     "data": {
      "text/html": [
       "<ol class=list-inline>\n",
       "\t<li>1</li>\n",
       "\t<li>2</li>\n",
       "\t<li>2</li>\n",
       "\t<li>3</li>\n",
       "\t<li>2</li>\n",
       "\t<li>2</li>\n",
       "\t<li>2</li>\n",
       "</ol>\n"
      ],
      "text/latex": [
       "\\begin{enumerate*}\n",
       "\\item 1\n",
       "\\item 2\n",
       "\\item 2\n",
       "\\item 3\n",
       "\\item 2\n",
       "\\item 2\n",
       "\\item 2\n",
       "\\end{enumerate*}\n"
      ],
      "text/markdown": [
       "1. 1\n",
       "2. 2\n",
       "3. 2\n",
       "4. 3\n",
       "5. 2\n",
       "6. 2\n",
       "7. 2\n",
       "\n",
       "\n"
      ],
      "text/plain": [
       "[1] 1 2 2 3 2 2 2"
      ]
     },
     "metadata": {},
     "output_type": "display_data"
    }
   ],
   "source": [
    "list_na <- c(1, NA, 2, 3, 2, 2, NA)\n",
    "replace_na_mean <- function(x)\n",
    "    {\n",
    "   replace(x, is.na(list_na), mean(list_na, na.rm = TRUE))\n",
    " }\n",
    "replace_na_mean(c(1, NA, 2, 3, 2, 2, NA))"
   ]
  },
  {
   "cell_type": "markdown",
   "id": "9facbb94",
   "metadata": {},
   "source": [
    "# Question 1"
   ]
  },
  {
   "cell_type": "code",
   "execution_count": 8,
   "id": "5b916191",
   "metadata": {},
   "outputs": [
    {
     "data": {
      "text/html": [
       "10000"
      ],
      "text/latex": [
       "10000"
      ],
      "text/markdown": [
       "10000"
      ],
      "text/plain": [
       "[1] 10000"
      ]
     },
     "metadata": {},
     "output_type": "display_data"
    }
   ],
   "source": [
    "get_all_perms <- function(x){\n",
    "  rep(list(0:9),4)%>%\n",
    "    expand.grid() %>%\n",
    "    nrow()\n",
    "}\n",
    "get_all_perms()"
   ]
  },
  {
   "cell_type": "markdown",
   "id": "52e20645",
   "metadata": {},
   "source": [
    "# Question 2"
   ]
  },
  {
   "cell_type": "code",
   "execution_count": 13,
   "id": "2cde3e31",
   "metadata": {},
   "outputs": [
    {
     "data": {
      "text/html": [
       "10000"
      ],
      "text/latex": [
       "10000"
      ],
      "text/markdown": [
       "10000"
      ],
      "text/plain": [
       "[1] 10000"
      ]
     },
     "metadata": {},
     "output_type": "display_data"
    },
    {
     "data": {
      "text/html": [
       "1000"
      ],
      "text/latex": [
       "1000"
      ],
      "text/markdown": [
       "1000"
      ],
      "text/plain": [
       "[1] 1000"
      ]
     },
     "metadata": {},
     "output_type": "display_data"
    }
   ],
   "source": [
    "get_all_perms <- function(size){\n",
    "  list(0:9)%>%\n",
    "    rep(size) %>%\n",
    "    expand.grid() %>%\n",
    "    nrow()\n",
    "}\n",
    "\n",
    "get_all_perms(size = 4)\n",
    "get_all_perms(size = 3)"
   ]
  },
  {
   "cell_type": "markdown",
   "id": "6086ffce",
   "metadata": {},
   "source": [
    "# Question 3"
   ]
  },
  {
   "cell_type": "code",
   "execution_count": 5,
   "id": "2fe0ee24",
   "metadata": {},
   "outputs": [
    {
     "data": {
      "text/html": [
       "1"
      ],
      "text/latex": [
       "1"
      ],
      "text/markdown": [
       "1"
      ],
      "text/plain": [
       "[1] 1"
      ]
     },
     "metadata": {},
     "output_type": "display_data"
    },
    {
     "data": {
      "text/html": [
       "0.0436656568589184"
      ],
      "text/latex": [
       "0.0436656568589184"
      ],
      "text/markdown": [
       "0.0436656568589184"
      ],
      "text/plain": [
       "[1] 0.04366566"
      ]
     },
     "metadata": {},
     "output_type": "display_data"
    },
    {
     "data": {
      "text/html": [
       "146"
      ],
      "text/latex": [
       "146"
      ],
      "text/markdown": [
       "146"
      ],
      "text/plain": [
       "[1] 146"
      ]
     },
     "metadata": {},
     "output_type": "display_data"
    }
   ],
   "source": [
    "fish_samples = c(0:340)\n",
    "probs = mapply(dbinom, fish_samples, size=340, prob=0.43)\n",
    "sum(probs)\n",
    "\n",
    "max(probs)\n",
    "fish_samples[which.max(probs)]"
   ]
  },
  {
   "cell_type": "code",
   "execution_count": 8,
   "id": "7a1f896f",
   "metadata": {
    "scrolled": true
   },
   "outputs": [
    {
     "name": "stderr",
     "output_type": "stream",
     "text": [
      "Warning message:\n",
      "\"Removed 240 rows containing missing values (position_stack).\"Warning message:\n",
      "\"Removed 2 rows containing missing values (geom_bar).\""
     ]
    },
    {
     "data": {
      "image/png": "[encoded data removed]",
      "text/plain": [
       "plot without title"
      ]
     },
     "metadata": {},
     "output_type": "display_data"
    }
   ],
   "source": [
    "ggplot() + \n",
    "  geom_bar(aes(x=fish_samples, y=probs), stat = \"identity\")+\n",
    "  xlim(100,200)"
   ]
  },
  {
   "cell_type": "markdown",
   "id": "ce4cb2c8",
   "metadata": {},
   "source": [
    "# Question 4"
   ]
  },
  {
   "cell_type": "code",
   "execution_count": 5,
   "id": "1de44d98",
   "metadata": {},
   "outputs": [
    {
     "data": {
      "image/png": "[encoded data removed]",
      "text/plain": [
       "plot without title"
      ]
     },
     "metadata": {},
     "output_type": "display_data"
    }
   ],
   "source": [
    "x_values = seq(8,12, 0.05)\n",
    "probs_1 = mapply(dnorm, x_values, mean = 10, sd = 0.5)\n",
    "probs_2 = mapply(dnorm, x_values, mean = 10.2, sd = 0.5)\n",
    "\n",
    "ggplot() + \n",
    "  geom_line(aes(x=x_values, y=probs_1, color = \"red\"), size = 2) +\n",
    "  geom_line(aes(x=x_values, y=probs_2, color = \"blue\"), size = 2) +\n",
    "  scale_color_manual(labels = c(\"probs_1\", \"probs_2\"), values = c(\"blue\", \"red\"))\n"
   ]
  },
  {
   "cell_type": "code",
   "execution_count": 6,
   "id": "157650a4",
   "metadata": {},
   "outputs": [
    {
     "data": {
      "text/plain": [
       "\n",
       "\tWelch Two Sample t-test\n",
       "\n",
       "data:  x_sample and y_sample\n",
       "t = 0.19142, df = 77.729, p-value = 0.8487\n",
       "alternative hypothesis: true difference in means is not equal to 0\n",
       "95 percent confidence interval:\n",
       " -0.1175544  0.1425630\n",
       "sample estimates:\n",
       "mean of x mean of y \n",
       "0.2687666 0.2562623 \n"
      ]
     },
     "metadata": {},
     "output_type": "display_data"
    }
   ],
   "source": [
    "set.seed(42)\n",
    "x_sample <- sample(probs_1, 40)\n",
    "y_sample <- sample(probs_2,40)\n",
    "t.test(x_sample,y_sample)\n",
    "##I would definitely not feel comfortable saying these two sample sets are statistically different."
   ]
  },
  {
   "cell_type": "markdown",
   "id": "fbfaa4d0",
   "metadata": {},
   "source": [
    "# Question 5"
   ]
  },
  {
   "cell_type": "code",
   "execution_count": 22,
   "id": "17be1f4e",
   "metadata": {},
   "outputs": [
    {
     "data": {
      "text/html": [
       "0.000267660451529771"
      ],
      "text/latex": [
       "0.000267660451529771"
      ],
      "text/markdown": [
       "0.000267660451529771"
      ],
      "text/plain": [
       "[1] 0.0002676605"
      ]
     },
     "metadata": {},
     "output_type": "display_data"
    },
    {
     "data": {
      "text/html": [
       "0.107981933026376"
      ],
      "text/latex": [
       "0.107981933026376"
      ],
      "text/markdown": [
       "0.107981933026376"
      ],
      "text/plain": [
       "[1] 0.1079819"
      ]
     },
     "metadata": {},
     "output_type": "display_data"
    },
    {
     "data": {
      "text/html": [
       "0.797884560802865"
      ],
      "text/latex": [
       "0.797884560802865"
      ],
      "text/markdown": [
       "0.797884560802865"
      ],
      "text/plain": [
       "[1] 0.7978846"
      ]
     },
     "metadata": {},
     "output_type": "display_data"
    },
    {
     "data": {
      "text/html": [
       "0.107981933026376"
      ],
      "text/latex": [
       "0.107981933026376"
      ],
      "text/markdown": [
       "0.107981933026376"
      ],
      "text/plain": [
       "[1] 0.1079819"
      ]
     },
     "metadata": {},
     "output_type": "display_data"
    },
    {
     "data": {
      "text/html": [
       "0.000267660451529771"
      ],
      "text/latex": [
       "0.000267660451529771"
      ],
      "text/markdown": [
       "0.000267660451529771"
      ],
      "text/plain": [
       "[1] 0.0002676605"
      ]
     },
     "metadata": {},
     "output_type": "display_data"
    },
    {
     "data": {
      "image/png": "[encoded data removed]",
      "text/plain": [
       "plot without title"
      ]
     },
     "metadata": {},
     "output_type": "display_data"
    }
   ],
   "source": [
    "x_values_challenge = seq(8, 12, 0.1)\n",
    "probs_3 = mapply(dnorm, x_values_challenge, mean = 10, sd = 0.5)\n",
    "ggplot() + \n",
    "  geom_line(aes(x=x_values_challenge, y=probs_3), size = 2)\n",
    "\n",
    "probs_3[x_values_challenge == 8]\n",
    "probs_3[x_values_challenge == 9]\n",
    "probs_3[x_values_challenge == 10]\n",
    "probs_3[x_values_challenge == 11]\n",
    "probs_3[x_values_challenge == 12]"
   ]
  }
 ],
 "metadata": {
  "kernelspec": {
   "display_name": "R",
   "language": "R",
   "name": "ir"
  },
  "language_info": {
   "codemirror_mode": "r",
   "file_extension": ".r",
   "mimetype": "text/x-r-source",
   "name": "R",
   "pygments_lexer": "r",
   "version": "3.6.1"
  }
 },
 "nbformat": 4,
 "nbformat_minor": 5
}
